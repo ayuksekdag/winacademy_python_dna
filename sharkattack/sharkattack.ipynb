{
  "cells": [
    {
      "cell_type": "markdown",
      "metadata": {
        "id": "ymzKU8lNxjEv"
      },
      "source": [
        "Sharkattack assignment\n",
        "\n",
        "Take this dataset: https://www.kaggle.com/felipeesc/shark-attack-dataset(opens in a new tab). Use all the skills you've learned up until now to answer the following questions as well as possible.\n",
        "\n",
        "1 What are the most dangerous types of sharks to humans?\n",
        "\n",
        "2 Are children more likely to be attacked by sharks?\n",
        "\n",
        "3 Are shark attacks where sharks were provoked more or less dangerous?\n",
        "\n",
        "4 Are certain activities more likely to result in a shark attack?\n",
        "\n",
        "If you feel you can't answer a question based on the dataset alone, feel free to find other datasets and use them in answering the questions.\n",
        "\n",
        "For each answer you give not only answer the question but also write about the assumptions you made in answering the question. If an assumption or decision possibly created a bias please write about this as well.\n"
      ]
    },
    {
      "cell_type": "code",
      "execution_count": 1,
      "metadata": {
        "id": "d8hj-85sxjEx"
      },
      "outputs": [],
      "source": [
        "import pandas as pd\n",
        "import numpy as np\n",
        "import re"
      ]
    },
    {
      "cell_type": "code",
      "execution_count": 2,
      "metadata": {
        "id": "0pBP6mB_xjEx"
      },
      "outputs": [],
      "source": [
        "url='https://raw.githubusercontent.com/ayuksekdag/winacademy_python_dna/main/sharkattack/attacks.csv'\n",
        "ds_shark_raw = pd.read_csv(url, delimiter=',', encoding='latin1')"
      ]
    },
    {
      "cell_type": "code",
      "execution_count": 3,
      "metadata": {
        "colab": {
          "base_uri": "https://localhost:8080/"
        },
        "id": "UurKOAuoxjEy",
        "outputId": "2fb93f80-2098-4c0a-f02f-5277278240b5"
      },
      "outputs": [
        {
          "output_type": "execute_result",
          "data": {
            "text/plain": [
              "Index(['Case Number', 'Date', 'Year', 'Type', 'Country', 'Area', 'Location',\n",
              "       'Activity', 'Name', 'Sex ', 'Age', 'Injury', 'Fatal (Y/N)', 'Time',\n",
              "       'Species ', 'Investigator or Source', 'pdf', 'href formula', 'href',\n",
              "       'Case Number.1', 'Case Number.2', 'original order', 'Unnamed: 22',\n",
              "       'Unnamed: 23'],\n",
              "      dtype='object')"
            ]
          },
          "metadata": {},
          "execution_count": 3
        }
      ],
      "source": [
        "ds_shark_raw.columns"
      ]
    },
    {
      "cell_type": "code",
      "execution_count": 4,
      "metadata": {
        "id": "B4UeInyzxjEy"
      },
      "outputs": [],
      "source": [
        "#some columns have spaces remove by renaming (strpping) all spaces\n",
        "ds_shark_raw.columns = ds_shark_raw.columns.str.replace(' ', '')"
      ]
    },
    {
      "cell_type": "code",
      "execution_count": 5,
      "metadata": {
        "id": "FiN8-d66xjEy"
      },
      "outputs": [],
      "source": [
        "#ds_shark_raw.info()"
      ]
    },
    {
      "cell_type": "markdown",
      "metadata": {
        "id": "JSNuko9LxjEy"
      },
      "source": [
        "Question1: What are the most dangerous types of sharks to humans?\n",
        "\n",
        "Assumption: In answering this I made the assumption that would be highest count on the specie and fatal(Y/N)\n",
        "Cleansing: observations have  been removed for unfilled observations. categorizing has been done for specie\n",
        "\n",
        "Answer: White Shark attacks humans the most also with the hightest fatal\n"
      ]
    },
    {
      "cell_type": "code",
      "execution_count": 6,
      "metadata": {
        "colab": {
          "base_uri": "https://localhost:8080/"
        },
        "id": "S8ZbqINVxjEy",
        "outputId": "7ebe47da-cfbc-45d5-f7b5-480acfc2ede6"
      },
      "outputs": [
        {
          "output_type": "execute_result",
          "data": {
            "text/plain": [
              "Species\n",
              "White Shark                                           667\n",
              "Tiger Shark                                           283\n",
              "Bull Shark                                            178\n",
              "Grey Nurse Shark                                      122\n",
              "Shark involvement prior to death was not confirmed    105\n",
              "Shark involvement not confirmed                        88\n",
              "Unknown                                                75\n",
              "Blue Shark                                             56\n",
              "Hammerhead Shark                                       48\n",
              "4' shark                                               40\n",
              "dtype: int64"
            ]
          },
          "metadata": {},
          "execution_count": 6
        }
      ],
      "source": [
        "# data cleansing question 1\n",
        "# step1 remove empty Species. and useless other observations\n",
        "# Those records are useless\n",
        "\n",
        "prep1 = ds_shark_raw.dropna(subset=['Species'])\n",
        "prep1 = prep1[~prep1['Species'].str.contains('invalid', case =False)]\n",
        "\n",
        "\n",
        "#step 2 replace values for right category\n",
        "prep1.loc[prep1['Species'].str.contains('white', case=False), 'Species' ] = 'White Shark'\n",
        "prep1.loc[prep1['Species'].str.contains('tiger', case=False), 'Species'] = 'Tiger Shark'\n",
        "prep1.loc[prep1['Species'].str.contains('blue', case=False), 'Species'] = 'Blue Shark'\n",
        "prep1.loc[prep1['Species'].str.contains('bull', case=False), 'Species'] = 'Bull Shark'\n",
        "prep1.loc[prep1['Species'].str.contains('dusky', case=False), 'Species'] = 'Dusky Shark'\n",
        "prep1.loc[prep1['Species'].str.contains('grey', case=False), 'Species'] = 'Grey Nurse Shark'\n",
        "prep1.loc[prep1['Species'].str.contains('gummy', case=False), 'Species'] = 'Gummy Shark'\n",
        "prep1.loc[prep1['Species'].str.contains('nurse', case=False), 'Species'] = 'Grey Nurse Shark'\n",
        "prep1.loc[prep1['Species'].str.contains('hammer', case=False), 'Species'] = 'Hammerhead Shark'\n",
        "prep1.loc[prep1['Species'].str.contains('dog', case=False), 'Species'] = 'Piked Spurdog'\n",
        "\n",
        "prep1.loc[prep1['Species'].str.contains('not cofirmed', case=False), 'Species'] = 'Unknown'\n",
        "prep1.loc[prep1['Species'].str.contains('unconfirmed', case=False), 'Species'] = 'Unknown'\n",
        "\n",
        "# category filled ok for 85% observation\n",
        "(prep1.groupby(['Species']).size().sort_values(ascending=[False]).head(10))\n",
        "\n",
        "# cotegory filled ok for over 90%\n",
        "#(prep1.groupby(['Fatal(Y/N)']).size().sort_values(ascending=[False]).head(10))\n",
        "\n",
        "#prep1.info()\n"
      ]
    },
    {
      "cell_type": "code",
      "execution_count": 7,
      "metadata": {
        "colab": {
          "base_uri": "https://localhost:8080/",
          "height": 598
        },
        "id": "XMXvAU89xjEz",
        "outputId": "67293dca-59e9-4ab8-e83b-5be6121ccb21"
      },
      "outputs": [
        {
          "output_type": "execute_result",
          "data": {
            "text/plain": [
              "<Axes: title={'center': 'Dangerous types of sharks to humans'}, xlabel='Species', ylabel='number of incidents'>"
            ]
          },
          "metadata": {},
          "execution_count": 7
        },
        {
          "output_type": "display_data",
          "data": {
            "text/plain": [
              "<Figure size 640x480 with 1 Axes>"
            ],
            "image/png": "[encoded data removed]"
          },
          "metadata": {}
        }
      ],
      "source": [
        "#solution 1: Aggregate on Species in descending order and do a count (size in pandas), take top5 and plot\n",
        "tussen_resultaat = (prep1\n",
        " .groupby(['Species','Fatal(Y/N)'])\n",
        " .size()\n",
        " .sort_values(ascending=[False])\n",
        " #.reset_index(name='count')\n",
        " .head(5)\n",
        ")\n",
        "\n",
        "# series pivot to dataframe\n",
        "# -1 gaat de laatste kolom pivotten zodat fatal count\n",
        "# gesplits wordt in aantal N of Y\n",
        "# index blijft species nodig voor de x-as\n",
        "ds_ready_for_plot = tussen_resultaat.unstack(level=-1)\n",
        "\n",
        "#plotten maar\n",
        "ds_ready_for_plot.plot(kind='bar',stacked=True\n",
        "                       , title='Dangerous types of sharks to humans'\n",
        "                       , ylabel='number of incidents')\n",
        "\n"
      ]
    },
    {
      "cell_type": "markdown",
      "metadata": {
        "id": "jEiFlOxWxjEz"
      },
      "source": [
        "Question 2: Are children more likely to be attacked by sharks?\n",
        "Assumption: Categorize all left observations by Age group Adult vs Young and do a count. Create a new column based on this and use this in the final result\n",
        "Data Cleansing: see below prep 2\n",
        "\n",
        "Answer: Yes chlidren are attacked more than adults"
      ]
    },
    {
      "cell_type": "code",
      "execution_count": 43,
      "metadata": {
        "colab": {
          "base_uri": "https://localhost:8080/"
        },
        "id": "n-qTGAtnxjEz",
        "outputId": "c15089af-aa51-4134-8ba8-bca511f6685c"
      },
      "outputs": [
        {
          "output_type": "execute_result",
          "data": {
            "text/plain": [
              "Age_group\n",
              "Adult    1548\n",
              "Child    1813\n",
              "dtype: int64"
            ]
          },
          "metadata": {},
          "execution_count": 43
        }
      ],
      "source": [
        "# data cleansing question 2\n",
        "\n",
        "prep2 = prep1.copy()\n",
        "\n",
        "# # prep2.info()\n",
        "# (prep2.Age.unique()\n",
        "\n",
        "# datafix age extract number from string\n",
        "prep2['Age_datafix'] = prep2['Age'].str.extract('(\\d+)').apply(pd.to_numeric)\n",
        "\n",
        "prep2['Age_group'] = prep2['Age_datafix'].apply(lambda x: 'Adult' if x>18 else 'Child'  )\n",
        "\n",
        "#prep2.groupby(['Age_group']).size()"
      ]
    },
    {
      "cell_type": "code",
      "execution_count": 44,
      "metadata": {
        "id": "52hala-KxjEz",
        "outputId": "9d6a6134-5e76-4636-f973-e83f5683e4de",
        "colab": {
          "base_uri": "https://localhost:8080/",
          "height": 512
        }
      },
      "outputs": [
        {
          "output_type": "execute_result",
          "data": {
            "text/plain": [
              "<Axes: title={'center': 'shark attack Age group'}, xlabel='Age group', ylabel='number of incidents'>"
            ]
          },
          "metadata": {},
          "execution_count": 44
        },
        {
          "output_type": "display_data",
          "data": {
            "text/plain": [
              "<Figure size 640x480 with 1 Axes>"
            ],
            "image/png": "[encoded data removed]"
          },
          "metadata": {}
        }
      ],
      "source": [
        "#Solution 2\n",
        "# aggregate on age do a count in descending order. take top 6 and plot\n",
        "(prep2\n",
        " .groupby('Age_group')\n",
        " .size()\n",
        " .sort_values(ascending=[False])\n",
        " .head(10)\n",
        " .plot(kind = \"bar\", title='shark attack Age group', ylabel='number of incidents', xlabel='Age group')\n",
        ")"
      ]
    },
    {
      "cell_type": "markdown",
      "metadata": {
        "id": "0TKKesRJxjE0"
      },
      "source": [
        "Question 3: Are shark attacks where sharks were provoked more or less dangerous?\n",
        "Assumption: In this case we need to look more variables. I would do count by Typeand Fatal (Y/N) and take the top 5 and plot it\n",
        "Answer: Shark are Unprovoked more dangerous"
      ]
    },
    {
      "cell_type": "code",
      "execution_count": 61,
      "metadata": {
        "id": "B0qIkdAZxjE0"
      },
      "outputs": [],
      "source": [
        "prep3 = prep2.copy()"
      ]
    },
    {
      "cell_type": "code",
      "source": [
        "#data fixes prep3\n",
        "(prep3\n",
        " .groupby(['Type'])\n",
        " .size()\n",
        ")\n",
        "\n",
        "# Type\n",
        "# Boat             112\n",
        "# Boating          136\n",
        "# Invalid          423\n",
        "# Provoked         412\n",
        "# Questionable       2\n",
        "# Sea Disaster      35\n",
        "# Unprovoked      2241\n",
        "\n",
        "# prep3 = prep3[~prep3['Type'].str.contains('boat', case =False)]\n",
        "# prep3 = prep3[~prep3['Type'].str.contains('questionable', case =False)]\n",
        "# prep3 = prep3[~prep3['Type'].str.contains('sea', case =False)]\n",
        "# prep3 = prep3[~prep3['Type'].str.contains('invalid', case =False)]\n",
        "\n",
        "\n",
        "\n",
        "prep3 = prep3[~prep3['Fatal(Y/N)'].str.contains('unknown', case =False, na=False)]\n",
        "prep3 = prep3[~prep3['Fatal(Y/N)'].str.contains('M', case =False, na=False)]\n",
        "prep3 = prep3[~prep3['Fatal(Y/N)'].str.contains('2017', case =False, na=False)]\n",
        "\n",
        "\n",
        "prep3['Fatal(Y/N)']  = prep3['Fatal(Y/N)'].str.replace(':','N', regex=True)\n",
        "\n",
        "# (prep3\n",
        "#  .groupby(['Type'])\n",
        "#  .size()\n",
        "# )\n",
        "\n",
        "(prep3\n",
        " .groupby(['Fatal(Y/N)'])\n",
        " .size()\n",
        ")"
      ],
      "metadata": {
        "id": "3VIe9kygAiGu",
        "outputId": "8867ec9a-1916-4bb6-865d-323a78f8ea68",
        "colab": {
          "base_uri": "https://localhost:8080/"
        }
      },
      "execution_count": 87,
      "outputs": [
        {
          "output_type": "execute_result",
          "data": {
            "text/plain": [
              "Fatal(Y/N)\n",
              " N       5\n",
              "N     2234\n",
              "Y      397\n",
              "dtype: int64"
            ]
          },
          "metadata": {},
          "execution_count": 87
        }
      ]
    },
    {
      "cell_type": "code",
      "source": [
        "#solution 1: Aggregate on Species in descending order and do a count (size in pandas), take top5 and plot\n",
        "tussen_resultaat_3 = (prep3\n",
        " .groupby(['Type','Fatal(Y/N)'])\n",
        " .size()\n",
        " .sort_values(ascending=[False])\n",
        " #.reset_index(name='count')\n",
        " .head(5)\n",
        ")\n",
        "tussen_resultaat_3\n",
        "\n",
        "# series pivot to dataframe\n",
        "# -1 gaat de laatste kolom pivotten zodat fatal count\n",
        "# gesplits wordt in aantal N of Y\n",
        "# index blijft species nodig voor de x-as\n",
        "#ds_ready_for_plot_3 = tussen_resultaat_3.unstack(level=-1)\n",
        "\n",
        "\n",
        "# #plotten maar\n",
        "# ds_ready_for_plot_3.plot(kind='bar',stacked=True\n",
        "#                        , title='Dangerous types of sharks to humans'\n",
        "#                        , ylabel='number of incidents')"
      ],
      "metadata": {
        "id": "tOOCf8vmBXGo",
        "outputId": "5f1d0af8-fe62-4286-c092-413039ab4fb7",
        "colab": {
          "base_uri": "https://localhost:8080/"
        }
      },
      "execution_count": 58,
      "outputs": [
        {
          "output_type": "execute_result",
          "data": {
            "text/plain": [
              "Type        Fatal(Y/N)\n",
              "Unprovoked  N             1835\n",
              "Provoked    N              399\n",
              "Unprovoked  Y              390\n",
              "            UNKNOWN         10\n",
              "Provoked    Y                7\n",
              "dtype: int64"
            ]
          },
          "metadata": {},
          "execution_count": 58
        }
      ]
    },
    {
      "cell_type": "code",
      "execution_count": 53,
      "metadata": {
        "id": "kkuMnv33xjE0",
        "outputId": "99a0b1a0-f543-4c1e-cba0-f780b8ea2bf0",
        "colab": {
          "base_uri": "https://localhost:8080/",
          "height": 524
        }
      },
      "outputs": [
        {
          "output_type": "execute_result",
          "data": {
            "text/plain": [
              "<Axes: title={'center': 'Dangerous shark attacks provoked or unprovoked'}, ylabel='number of incidents'>"
            ]
          },
          "metadata": {},
          "execution_count": 53
        },
        {
          "output_type": "display_data",
          "data": {
            "text/plain": [
              "<Figure size 640x480 with 1 Axes>"
            ],
            "image/png": "[encoded data removed]"
          },
          "metadata": {}
        }
      ],
      "source": [
        "#solution 3\n",
        "# aggregate on type and injury do a count in descending order. take top 6 and plot\n",
        "(ds_ready_for_plot_3\n",
        " .groupby(['Type', 'Fatal(Y/N)'])\n",
        " .size()\n",
        " .sort_values(ascending=[False])\n",
        " .head(5)\n",
        " .plot(kind = 'bar', stacked=True,  title=\"Dangerous shark attacks provoked or unprovoked\", ylabel=\"number of incidents\")\n",
        ")"
      ]
    },
    {
      "cell_type": "markdown",
      "metadata": {
        "id": "Xacl2V8kxjE0"
      },
      "source": [
        "Question4: Are certain activities more likely to result in a shark attack?\n",
        "Assumption: Take activity and Type and do count.\n",
        "Datacleansing: replace values of activity and categorize\n",
        "Answer: Swimming and Surfing, fishing and diving are all dangerous unprovoked."
      ]
    },
    {
      "cell_type": "code",
      "execution_count": null,
      "metadata": {
        "id": "NToZQZglxjE0"
      },
      "outputs": [],
      "source": [
        "prep4 = prep3.copy()\n",
        "\n",
        " # prep2.info()\n",
        "#(prep4.Activity.unique())"
      ]
    },
    {
      "cell_type": "code",
      "execution_count": null,
      "metadata": {
        "id": "PUOyUjsYxjE0",
        "outputId": "5cd2e041-5a49-487c-a27a-715fa8c23edd"
      },
      "outputs": [
        {
          "data": {
            "text/plain": [
              "array(['Paddling', 'Surfing', 'Diving', 'Swimming', 'Fishing', 'Walking',\n",
              "       'Feeding sharks', 'Paddle-skiing', 'Body boarding',\n",
              "       'Stand-Up Paddleboarding', 'Wading', 'Cleaning fish', 'Snorkeling',\n",
              "       '2 boats capsized', 'Night bathing', 'Kayaking', 'SUP',\n",
              "       'Touching a shark', 'Attempting to lasso a shark', 'Photo shoot',\n",
              "       'Washing hands', 'Grabbing shark for a selfie', 'Tagging sharks',\n",
              "       'Surf skiing ', 'Floating', 'SUP Foil boarding', 'Lobstering',\n",
              "       'Floating in tube', 'Standing', 'Teasing a shark', 'Surf-skiing',\n",
              "       'Feeding stingrays?', 'Paddle boarding', 'Treading water',\n",
              "       'Body boarding ', 'Playing in the water', 'Body Boarding',\n",
              "       'Boogie boarding', 'Playing', 'Attempting to rescue a shark',\n",
              "       'Photographing the shark', 'Standing / Snorkeling',\n",
              "       'Hand feeding sharks', 'Sitting in the water',\n",
              "       'Transatlantic Rowing', 'Rowing', 'Filming',\n",
              "       'Standing in inner tube', 'Kayaking ', 'Feeding fish',\n",
              "       'Kite boarding', 'Sea disaster', 'Petting a shark',\n",
              "       'Fell into the water', 'Shark watching', 'Filming a documentary',\n",
              "       'Kiteboarding', 'Casting a net', 'Attempting to free the shark',\n",
              "       'Boogie Boarding', 'Playing in the surf', 'Bodyboarding',\n",
              "       'Attempting to rescue an injured & beached shark', 'Canoeing',\n",
              "       'Kite Boarding', 'Washing sand off a speared fish',\n",
              "       'Standing, holding shark pup', 'Wakeboarding', 'Rescuing',\n",
              "       'Measuring sharks', 'Crawling', 'Crabbing', 'Yacht race',\n",
              "       'Rowing an inflatable dinghy', 'Sea Disaster', 'Jet skiing',\n",
              "       \"Accidentally stood on hooked shark's tail before attempting to gut it \",\n",
              "       'Attempting to chase shark out to sea',\n",
              "       'Removing fish from a trap', 'Jumping',\n",
              "       'Floating near boat & observing bioluminesce',\n",
              "       'Jumped into the water', 'Murder', 'Removing hook from shark',\n",
              "       'Reviving a sedated shark', 'Shark tagging', 'Shrimping',\n",
              "       'Playing soccer in the water', 'Lifesaving drill',\n",
              "       'Touching sharks',\n",
              "       'Competing in the Woodvale Atlantic Rowing Race',\n",
              "       'Removing shark from net',\n",
              "       'Boogie boarding, kicked at object in the water',\n",
              "       'Holding onto an inflatable boat', \"Crouching in 2' of water\",\n",
              "       'Attempting to drive shark away from sailing regatta',\n",
              "       'Swept out to sea by the tsunami, she clung  to a log for 24 hours',\n",
              "       'Scurfing (surfboard being  towed behind a boat)',\n",
              "       'Chumming for white sharks', 'Bathing', 'Surf skiing',\n",
              "       'Standing, stepped on shark', 'Sitting on surfboard',\n",
              "       'Walking, carrying surfboard & stepped on shark',\n",
              "       'Petting captive sharks', 'Unknown',\n",
              "       'Wading, when he stepped on the shark',\n",
              "       'Snorkeling (filming the sardine run)', 'Floating on a raft',\n",
              "       'Body-boarding', 'Kite-Boarding', 'Fell off banana boat',\n",
              "       'Hiking on the beach', 'Standing alongside surfboard',\n",
              "       'Attempting to catch a crocodile',\n",
              "       \"Sinking of the 40' Esperanza off St. Maartin with 36 refugees on board\",\n",
              "       'Shipwrecked', 'Fell onto dead shark', 'Conducting research',\n",
              "       'Attempting to illegally enter the USA', 'Sailing',\n",
              "       'Air Disaster - Piper aircraft crashed into the sea, killing all on board',\n",
              "       'Feeding prawns to captive sharks', \"Lying prone in 2' of water\",\n",
              "       'Wading in school of baitfish', 'Adrift in a life jacket',\n",
              "       'Splashing / wading', 'Cruising', 'Paddle Skiing',\n",
              "       'Moving a shark in a net ', 'Towing rubber dinghy',\n",
              "       'Snorkeling \\x96 hunting crayfish and abalone', 'Watching seals',\n",
              "       'Dived naked into the water on a bet', 'Chumming for sharks',\n",
              "       'Playing / standing', '\"Riding waves on a board\"',\n",
              "       'Playing / jumping', 'Sleeping in anchored boat', 'Murder victim',\n",
              "       'Commercial diver (submerged or treading water)',\n",
              "       'Jumped off rocks into white water',\n",
              "       'Removing shark from tank in nightclub ',\n",
              "       'Playing volleyball with friends',\n",
              "       'Watching the shark feeding on a dead pinniped',\n",
              "       'Riding floatation device', '   ',\n",
              "       'Standing in waist-deep water, helping his father tend a gill net containing dead fish',\n",
              "       'Lying on surfboard',\n",
              "       'Snorkeling, carrying a speared fish in her hand', 'Fisherman',\n",
              "       'Preparing to fish for jack-mackerel',\n",
              "       'Finning the shark that bit him',\n",
              "       'Snorkeling, possibly holding a fish', 'Resting on surfboard',\n",
              "       'Wading, knocked down & swept away by large waves',\n",
              "       'Observing a shark feeding on a carcass of a humpback whale',\n",
              "       \"Filming 5' blue shark\", 'Playing ',\n",
              "       'Sittting in water with his child',\n",
              "       \"Onboard 21' powerboat that capsized in rough seas\",\n",
              "       'Lying atop surfboard', \"Attempting to lasso shark's tail\",\n",
              "       'Returning to shore, collided with shark',\n",
              "       'Vessel caught fire & capsized, survivors in the water',\n",
              "       'Dropping anchor', 'Jumped into the water from a cliff', 'Boat',\n",
              "       'NSB Meshing', 'Racing ski', 'Playing in knee-deep water',\n",
              "       'Investigating shark sighting',\n",
              "       'Sailing on catamaran & fell into the water', 'Boat capsized?',\n",
              "       'Towing her sister on plastic ski board', 'Steinhart Aquarium',\n",
              "       'Ferry boat sank',\n",
              "       '14 m prawn trawler New Venture capsized  & sank in heavy seas Three people in the water',\n",
              "       'Water-skiing', 'Paddleskiing', 'Paddle Boarding',\n",
              "       'Sailboarding, fell into water 100 yards outside the breakwater',\n",
              "       'Inspecting teeth of supposedly dead (hooked & shot) shark',\n",
              "       'Snorkeling on surface', 'Catching sardines', 'Standing / Wading',\n",
              "       'Exercising his dog in the shallows', 'Resting on body board',\n",
              "       'Gaffing netted shark', 'Collecting fish from net',\n",
              "       \"Pushed surfmat of a young girl out of the shark's path, drawing shark's attention to his own board\",\n",
              "       'Thrashing the water / imitating the shark victim from \"Jaws\"',\n",
              "       \"Sitting in bow of her father's 5 m boat\",\n",
              "       'Attempting to drive shark away from the beach',\n",
              "       'Filming & feeding captive sharks',\n",
              "       'Floating on a small orange raft ', 'Floating in inner tube',\n",
              "       'Attempting to drag hooked shark ashore by its tail',\n",
              "       'Adrift after the sinking of the motor yacht Princess Dianne',\n",
              "       'Sitting', 'Crabbing (spearing crabs)', 'Sitting in shallows',\n",
              "       'Sea Disaster Sinking of ferryboat Christina',\n",
              "       'Attempted to return injured shark to the sea',\n",
              "       'Netting pilchards', 'Sight-seeing', 'Feeding mullet to sharks',\n",
              "       'Wreck of the Storm King',\n",
              "       'Playing with a frisbee in the shallows',\n",
              "       'Schooner sank during a storm',\n",
              "       'Wading & pushing dinghy toward  the shallows',\n",
              "       'Picking up shark by the tail', 'Standing on sandbar',\n",
              "       \"Boat capsized between O'ahu & Molokai\",\n",
              "       'Pulling shark from the water',\n",
              "       'Photographing sharks underwater using Scuba',\n",
              "       'Beach seine netting', 'Feeding a shark',\n",
              "       'Vehicle plunged over cliff into the water', 'Splashing',\n",
              "       'A father bathing his smallest daughter when the shark bumped her out of his arms and carried her into deep water',\n",
              "       'Hunting crayfish ', 'Netting sharks', 'Attacked shark with fists',\n",
              "       'Killing a shark', 'Clamming', 'Shipwreck',\n",
              "       'Helping men land a shark',\n",
              "       'Colombian  (Avianca) DC-4 airliner plunged into the sea 5 minutes after takeoff',\n",
              "       'Argentine Air Force C-54',\n",
              "       'Sunbathing on beach when he saw child being attacked by the shark',\n",
              "       'Spearing fish', 'Arsinoe, a French tanker',\n",
              "       'Attempting to anesthetize shark', 'Walking on reef',\n",
              "       'Aircraft exploded', 'Motor boat Rebel Belle lost',\n",
              "       'Collecting marine specimens', 'Standing in waist-deep water',\n",
              "       'Bather', 'Filming underwater, carrying powerhead',\n",
              "       'Boat Miss Becky  sank 12 miles from shore',\n",
              "       'Floating on his back in an inner tube',\n",
              "       'Searching for remains of  Dr. Marais',\n",
              "       'Yacht Gooney Bird foundered, 4 survivors on raft',\n",
              "       'Attempting to swim across the Atlantic Ocean',\n",
              "       'Lying in 2 feet of water', 'Sitting on gunwale of boat',\n",
              "       'Greek steamship Lakonia caught fire, 98 of her 646 passengers, and 30 of her crew of 376 perished',\n",
              "       'Helping friend land hooked shark', 'Splashing in surf',\n",
              "       'Treading water while alongside capsized yacht',\n",
              "       'Catching sharks under government contract',\n",
              "       'Testing anti-shark cage', 'Washed into sea while picking opihi',\n",
              "       'S.S. Marine Sulphur Queen, laden with molten sulphur was bound from Beaumont, Texas for Norfolk, VA, when she disappeared with 39 on board',\n",
              "       'Adrift after wave swamped engine', 'Finning the shark',\n",
              "       'U.S. Airforce crewman reported missing after bailing out of jet',\n",
              "       'On a \"shark hunt\"', 'Rolled off raft', 'Washing', 'Splashing ',\n",
              "       'Survived US Naval aircraft crash, climbing onboard rescue vessel when he fell back into sea ',\n",
              "       'Attaching a line at sea', 'Walking in chest-deep water',\n",
              "       'Checking fish traps, fell into the water', 'Collecting crayfish',\n",
              "       'Collecting aquarium specimens',\n",
              "       'Fell overboard, prop slashed arm', 'Hand lining for shad',\n",
              "       'Aircraft crashed into sea',\n",
              "       'boat with 46 people on board capsized',\n",
              "       'Holding shark on leader & dangling it above the water',\n",
              "       'Helping angler land a shark',\n",
              "       'Testing classified underwater electronic gear for Raytheon Corporation, vessel torn apart by explosion',\n",
              "       'Speared a grouper, saw shark but it came for him instead of the fish so he fired spear into shark\\x92s mouth. Then shark took grouper but unable to swallow because of the spear in its mouth.',\n",
              "       'S2F-1 airplane crashed immediately after carrier take-off',\n",
              "       'Setting crayfish pots', 'Collecting ornamental fish',\n",
              "       'Standing in chest-deep water',\n",
              "       'Trailing the field in a surf race',\n",
              "       'National Airlines DC7B enroute from Miami to Los Angeles with 42 or 46 people on board went down in heavy fog',\n",
              "       'Dived overboard to retrieve dinghy',\n",
              "       \"Adrift, hanging onto cushion, after his 17' skiff ran out of gas & capsized 3 miles from shore\",\n",
              "       'Gigging for flounder', 'Pulling hooked salmon to boat',\n",
              "       'On inflatable raft',\n",
              "       'The 240-ton motor vessel Pilar II with 100 people on board capsized in high winds & rough seas',\n",
              "       'Pulling anchor', 'Dragging stranded shark ashore',\n",
              "       'On boat, preparing to dive', 'Working prawn net',\n",
              "       'Washed overboard into school of fish',\n",
              "       'In deep water about 100 yards from his ship',\n",
              "       'Dragging banana seeds through the shallows',\n",
              "       'Cleaning hull of ship ',\n",
              "       '\"Climbing up to ship after repairing the stern in water\"',\n",
              "       'Boat stopped to repair electric pump',\n",
              "       'U.S. Airforce C124 enroute from Hickham Air Base to Japan went down. The 3 survivors fashioned raft from mailbags  & were rescued 3 days after the crash.',\n",
              "       'Attempting to net shark in shark channel',\n",
              "       'M.V. Tropical sank. Sole survivor rode oil drums for 8 days without food or water.',\n",
              "       'Climbing back on ship', 'Boating', 'Removing shark from net ',\n",
              "       '\"Flying Tiger\" transport plane went down with 5 men onboard',\n",
              "       'Rowing toward snapper grounds',\n",
              "       'Hunting lobsters in 2.4 m of water', 'Crouching in the water',\n",
              "       'Landing hooked shark in boat',\n",
              "       'Went over side of boat at trochus ground', 'Air Disaster',\n",
              "       'Went to aid of child being menaced by the shark',\n",
              "       'cargo ship Southern Isle sank at 04h00', 'Fell overboard',\n",
              "       'Fell off surf ski', 'Suicide',\n",
              "       'Sitting on side of dinghy mending a net', 'Bending over',\n",
              "       'Bathing ', 'Sea Disaster, sinking of the motorship Wingate',\n",
              "       \"Lying on the bottom of a 16' dinghy\", 'No details',\n",
              "       'Bathing in water 0.9 m deep', 'Lifesaving exhibition',\n",
              "       'Spearing a shark', 'Underwater photography', 'Jumped overboard ',\n",
              "       'Attempting to ride a shark', 'Jumping in swells',\n",
              "       'Washed overboard by swell',\n",
              "       'Dived overboard to check propeller of US Navy motor torpedo boat',\n",
              "       'B-24 crashed during a search mission. Survivors in raft for 47 days ',\n",
              "       'ship torpedoed 400 miles off the African coas. Man was clinging to hatch cover',\n",
              "       'U-177 torpedoed & sank the troopship Nova Scotia',\n",
              "       'Adrift on life raft', 'Sculling', 'boat capsized during filming',\n",
              "       'H.M.S. Cornwall & H.M.S.Dorsetshire sunk by Japanese dive bombers. Officers & men in the water formed a circle with 60 of their dead in the center for 36 hours',\n",
              "       'Ditched plane in the sea & were adrift on a rubber life raft. ',\n",
              "       'Torpedoed & burning British  light cruiser with a crew of 450 men',\n",
              "       'HMAS Parramatta torpedoed & sunk by the U-559',\n",
              "       'Dived into the water', 'Standing in water with child in her arms',\n",
              "       'Seine netting', 'Dived for a coin', 'Scooping prawns',\n",
              "       'The schooner Elizabeth, bound from Bluefields, Nicaragua to the river port of San Carlos foundered',\n",
              "       'Pleasure boating',\n",
              "       \"12 of the Penang's crew were returning to the ship when their 12' dinghy capsized\",\n",
              "       \"Holding shark's tail \", 'Fell overboard, hanging onto lifebuoy',\n",
              "       'Put foot inside a landed & supposedly dead shark',\n",
              "       'Disappeared 11 days earlier, probable homicide victim',\n",
              "       'Hauling in net with shark in it', 'Splashing in water ',\n",
              "       \"Sitting in 3' of water\", 'Standing on his hands',\n",
              "       'Collecting fish by lamplight in gully',\n",
              "       'Gaffing & attempting to bring onboard a harpooned shark',\n",
              "       'Air disaster', 'Standing in knee-deep water',\n",
              "       'Launching rowboat through the surf', 'Wading, netting fish',\n",
              "       'Floating on his back', 'Bathing in waist-deep water',\n",
              "       'The Ward liner Esperanza stranded during a gale & she leapt overboard to rescue her dog which had been swept overboard.',\n",
              "       'seaplane Columbus ditched in the sea',\n",
              "       \"Bathing in 3' to 4' of water\", 'Bathing in knee-deep water',\n",
              "       'Dived into a school of baitfish', 'Harpooned shark',\n",
              "       'Knocked into the water', 'Cutter capsized',\n",
              "       'Steamer Una wrecked with 75 laborers onboard. Survivors took to rafts & lifeboats.',\n",
              "       'Stuffing a shark into an automobile', 'Washing clothes',\n",
              "       'Unknown, their unoccupied yawlboat was recovered', 'Surf bathing',\n",
              "       'Reported swept away by waves while gathering opihi',\n",
              "       'On December 28, 1908, an earthquake, followed by tsunamis, destroyed coastal towns in Silcily and southern Italy, killing more than 100,000 people',\n",
              "       'Fell from the jetty', '.',\n",
              "       'Reached out to disentangle rope & fell overboard',\n",
              "       'Floating in creek', 'Shooting sharks ', 'Washing horses',\n",
              "       'Floating or standing',\n",
              "       'Human head found in shark caught by British steamer Syria',\n",
              "       'Harpooning turtles', 'Hunting seashells', 'Hunting sharks',\n",
              "       'Attempting to land a boat from the Hinemoa', 'Hunting crayfish',\n",
              "       'Sponge divers', 'Fell from yardarm of British ship Rover',\n",
              "       'small boat', 'Fell overboard from sponge vessel',\n",
              "       'Parachuted from balloon', 'Probabable drowning',\n",
              "       'The cutter yacht Cutty Sark sank', 'Rowing a dinghy',\n",
              "       'Sea disaster : Wreck of the Taiaroa',\n",
              "       'He drowned when boat capsized', 'yachting accident',\n",
              "       'Restraining a beached shark',\n",
              "       'The steamship Bonnie Dundee lost in collision',\n",
              "       'Floating with life buoy after pilot launch capsized',\n",
              "       'Body found floating next to his ship', 'boat capsized',\n",
              "       'Bathing close inshore', 'Dragging a shark', 'Launching a boat',\n",
              "       'In boat being towed by ship, Karnak',\n",
              "       'He was fighting a shark when his boat capsized & he disappeared',\n",
              "       'Wreck of the steamship Birkenhead',\n",
              "       'Accidentally thrown overboard & treading water while awaiting rescue',\n",
              "       'Boat capsized, clinging to line',\n",
              "       \"Standing on landed shark's tail\",\n",
              "       'Fell overboard from a frigate & was swallowed by a shark. The captain fired a gun at the shark, and \"the creature cast the man out of his throat.\"',\n",
              "       'Went overboard', 'Attempting to drive shark from area',\n",
              "       'Lashing logs together when he fell into the water',\n",
              "       'A group of survivors on a raft for 17-days'], dtype=object)"
            ]
          },
          "execution_count": 23,
          "metadata": {},
          "output_type": "execute_result"
        }
      ],
      "source": [
        "\n",
        "\n",
        "prep4.dropna(subset=['Activity'], inplace = True)\n",
        "\n",
        "\n",
        "#step 2 replace values for right category\n",
        "prep4.loc[prep4['Activity'].str.contains('paddling', case=False), 'Activity' ] = 'Paddling'\n",
        "prep4.loc[prep4['Activity'].str.contains('surfing', case=False), 'Activity' ] = 'Surfing'\n",
        "prep4.loc[prep4['Activity'].str.contains('diving', case=False), 'Activity' ] = 'Diving'\n",
        "prep4.loc[prep4['Activity'].str.contains('swimming', case=False), 'Activity' ] = 'Swimming'\n",
        "prep4.loc[prep4['Activity'].str.contains('fishing', case=False), 'Activity' ] = 'Fishing'\n",
        "\n",
        "(prep4.Activity.unique())\n"
      ]
    },
    {
      "cell_type": "code",
      "execution_count": null,
      "metadata": {
        "id": "VKi9HWgFxjE0",
        "outputId": "8c4652ca-7044-436d-9659-68c6fcae33c5"
      },
      "outputs": [
        {
          "data": {
            "text/plain": [
              "<Axes: title={'center': 'Shark attack by activity and type'}, xlabel='Activity,Type', ylabel='number of incidents'>"
            ]
          },
          "execution_count": 24,
          "metadata": {},
          "output_type": "execute_result"
        },
        {
          "data": {
            "image/png": "[encoded data removed]",
            "text/plain": [
              "<Figure size 640x480 with 1 Axes>"
            ]
          },
          "metadata": {},
          "output_type": "display_data"
        }
      ],
      "source": [
        "#solution 4\n",
        "# aggregate on type and injury do a count in descending order. take top 5 and plot\n",
        "(prep4\n",
        " .groupby(['Activity', 'Type'])\n",
        " .size()\n",
        " .sort_values(ascending=[False])\n",
        " .head(5)\n",
        " .plot(kind = 'bar', title=\"Shark attack by activity and type\", ylabel=\"number of incidents\")\n",
        ")"
      ]
    }
  ],
  "metadata": {
    "kernelspec": {
      "display_name": "venv_pandas",
      "language": "python",
      "name": "python3"
    },
    "language_info": {
      "codemirror_mode": {
        "name": "ipython",
        "version": 3
      },
      "file_extension": ".py",
      "mimetype": "text/x-python",
      "name": "python",
      "nbconvert_exporter": "python",
      "pygments_lexer": "ipython3",
      "version": "3.9.2"
    },
    "colab": {
      "provenance": []
    }
  },
  "nbformat": 4,
  "nbformat_minor": 0
}