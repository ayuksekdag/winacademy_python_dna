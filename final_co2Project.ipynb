{
  "nbformat": 4,
  "nbformat_minor": 0,
  "metadata": {
    "colab": {
      "provenance": [],
      "authorship_tag": "ABX9TyMrneVmRzI4mtfG7i//45kG",
      "include_colab_link": true
    },
    "kernelspec": {
      "name": "python3",
      "display_name": "Python 3"
    },
    "language_info": {
      "name": "python"
    }
  },
  "cells": [
    {
      "cell_type": "markdown",
      "metadata": {
        "id": "view-in-github",
        "colab_type": "text"
      },
      "source": [
        "<a href=\"https://colab.research.google.com/github/ayuksekdag/winacademy_python_dna/blob/main/final_co2Project.ipynb\" target=\"_parent\"><img src=\"https://colab.research.google.com/assets/colab-badge.svg\" alt=\"Open In Colab\"/></a>"
      ]
    },
    {
      "cell_type": "markdown",
      "source": [
        "**Assignment**\n",
        "\n",
        "- What is the biggest predictor of a large CO2 output per capita of a country?\n",
        "- Which countries are making the biggest strides in decreasing CO2 output?\n",
        "- Which non-fossil fuel energy technology will have the best price in the future?"
      ],
      "metadata": {
        "id": "VrDOnq1FOrG1"
      }
    },
    {
      "cell_type": "markdown",
      "source": [],
      "metadata": {
        "id": "TOCjf68qLNlO"
      }
    },
    {
      "cell_type": "code",
      "source": [
        "import pandas as pd"
      ],
      "metadata": {
        "id": "LwD15BvyLOe9"
      },
      "execution_count": 72,
      "outputs": []
    },
    {
      "cell_type": "code",
      "source": [
        "# sources\n",
        "# source 1: https://ourworldindata.org/grapher/gdp-per-capita-worldbank\n",
        "# filename:per-capita-energy-use.csv\n",
        "# alias: engy_cap\n",
        "\n",
        "# source 2: https://ourworldindata.org/grapher/per-capita-energy-use\n",
        "# filename: gdp-per-capita-worldbank\n",
        "# alias: gdp_cap\n",
        "\n",
        "\n",
        "gdp_cap = pd.read_csv('https://raw.githubusercontent.com/ayuksekdag/winacademy_python_dna/main/final_assignment/gdp-per-capita-worldbank.csv')\n",
        "engy_cap = pd.read_csv('https://raw.githubusercontent.com/ayuksekdag/winacademy_python_dna/main/final_assignment/per-capita-energy-use.csv')"
      ],
      "metadata": {
        "id": "9h5ZCnjPLQ0J"
      },
      "execution_count": 73,
      "outputs": []
    },
    {
      "cell_type": "code",
      "source": [
        "# gdp_cap.head(3)\n",
        "# engy_cap.head(3)"
      ],
      "metadata": {
        "id": "sTDfawDkOLbc"
      },
      "execution_count": 74,
      "outputs": []
    },
    {
      "cell_type": "code",
      "source": [
        "#rename long column names with spaces and special characters\n",
        "engy_cap.rename(columns={'Primary energy consumption per capita (kWh/person)': 'energy_consumption'}, inplace=True)\n",
        "gdp_cap.rename(columns={'GDP per capita, PPP (constant 2017 international $)': 'gdp'}, inplace=True)\n",
        "# print(gdp_cap.dtypes)\n",
        "# print(engy_cap.dtypes)"
      ],
      "metadata": {
        "id": "QX4WOG57OpYy"
      },
      "execution_count": 75,
      "outputs": []
    },
    {
      "cell_type": "code",
      "source": [
        "#change datatype year to datetime\n",
        "gdp_cap['Year'] = pd.to_datetime(gdp_cap['Year'], format='%Y')\n",
        "engy_cap['Year'] = pd.to_datetime(engy_cap['Year'], format='%Y')\n",
        "print(gdp_cap.dtypes)\n",
        "print(engy_cap.dtypes)\n",
        "print(f' \\n grootte engy_cap  {engy_cap.shape}')\n",
        "print(f' \\n grootte gdp_cap {gdp_cap.shape}')\n"
      ],
      "metadata": {
        "colab": {
          "base_uri": "https://localhost:8080/"
        },
        "id": "EbJDCQwdOODB",
        "outputId": "e3dddb80-d1c6-4abc-d2b0-0f5664d67657"
      },
      "execution_count": 76,
      "outputs": [
        {
          "output_type": "stream",
          "name": "stdout",
          "text": [
            "Entity            object\n",
            "Code              object\n",
            "Year      datetime64[ns]\n",
            "gdp              float64\n",
            "dtype: object\n",
            "Entity                        object\n",
            "Code                          object\n",
            "Year                  datetime64[ns]\n",
            "energy_consumption           float64\n",
            "dtype: object\n",
            " \n",
            " grootte engy_cap  (10602, 4)\n",
            " \n",
            " grootte gdp_cap (6346, 4)\n"
          ]
        }
      ]
    },
    {
      "cell_type": "code",
      "source": [
        "df2 = gdp_cap.set_index('Year')\n",
        "df1 = engy_cap.set_index('Year')"
      ],
      "metadata": {
        "id": "MZ8iP_i3mQWQ"
      },
      "execution_count": 77,
      "outputs": []
    },
    {
      "cell_type": "code",
      "source": [
        "gdp_engy_cap = (\n",
        "    pd.merge(gdp_cap,engy_cap, how=\"inner\", on=['Year','Code'], suffixes=('', '_y'))\n",
        "    .drop(['Entity_y','Code'], axis=1)\n",
        ")\n",
        "gdp_engy_cap.head(2)\n",
        "gdp_engy_cap.shape"
      ],
      "metadata": {
        "colab": {
          "base_uri": "https://localhost:8080/"
        },
        "id": "EQEtqaBRVTPW",
        "outputId": "f6bc6f16-e56b-4b29-b1a3-0c8e67ebcf5f"
      },
      "execution_count": 78,
      "outputs": [
        {
          "output_type": "execute_result",
          "data": {
            "text/plain": [
              "(10362, 4)"
            ]
          },
          "metadata": {},
          "execution_count": 78
        }
      ]
    },
    {
      "cell_type": "code",
      "source": [
        "engy_cap[engy_cap.Code.isin(gdp_cap.Code) == False]['Entity'].unique()"
      ],
      "metadata": {
        "id": "2yWNnx1RGZJK",
        "outputId": "49b373b0-f585-4e18-bed0-97d0f68d566c",
        "colab": {
          "base_uri": "https://localhost:8080/"
        }
      },
      "execution_count": 85,
      "outputs": [
        {
          "output_type": "execute_result",
          "data": {
            "text/plain": [
              "array(['American Samoa', 'British Virgin Islands', 'Cook Islands', 'Cuba',\n",
              "       'Czechoslovakia', 'Eritrea', 'Falkland Islands', 'Faroe Islands',\n",
              "       'French Guiana', 'French Polynesia', 'Greenland', 'Guadeloupe',\n",
              "       'Guam', 'Martinique', 'Montserrat', 'Netherlands Antilles',\n",
              "       'New Caledonia', 'Niue', 'North Korea', 'Northern Mariana Islands',\n",
              "       'Reunion', 'Saint Helena', 'Saint Pierre and Miquelon',\n",
              "       'Serbia and Montenegro', 'South Sudan', 'Syria', 'Taiwan', 'USSR',\n",
              "       'United States Virgin Islands', 'Venezuela', 'Western Sahara',\n",
              "       'Yemen', 'Yugoslavia'], dtype=object)"
            ]
          },
          "metadata": {},
          "execution_count": 85
        }
      ]
    },
    {
      "cell_type": "code",
      "source": [
        "gdp_cap[gdp_cap.Code.isin(engy_cap.Code) == False]['Entity'].unique()"
      ],
      "metadata": {
        "id": "EAnIu7TRHH4H",
        "outputId": "6df3c59a-f3ae-4313-e994-28ffae3fedff",
        "colab": {
          "base_uri": "https://localhost:8080/"
        }
      },
      "execution_count": 86,
      "outputs": [
        {
          "output_type": "execute_result",
          "data": {
            "text/plain": [
              "array(['Curacao', 'Marshall Islands', 'Palau', 'San Marino',\n",
              "       'Sint Maarten (Dutch part)'], dtype=object)"
            ]
          },
          "metadata": {},
          "execution_count": 86
        }
      ]
    }
  ]
}