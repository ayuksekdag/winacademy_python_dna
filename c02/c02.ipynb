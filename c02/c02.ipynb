{
 "cells": [
  {
   "cell_type": "code",
   "execution_count": 155,
   "metadata": {},
   "outputs": [],
   "source": [
    "#import pandas\n",
    "import pandas as pd\n",
    "import matplotlib.pyplot as plt"
   ]
  },
  {
   "cell_type": "code",
   "execution_count": 156,
   "metadata": {},
   "outputs": [
    {
     "data": {
      "text/html": [
       "<div>\n",
       "<style scoped>\n",
       "    .dataframe tbody tr th:only-of-type {\n",
       "        vertical-align: middle;\n",
       "    }\n",
       "\n",
       "    .dataframe tbody tr th {\n",
       "        vertical-align: top;\n",
       "    }\n",
       "\n",
       "    .dataframe thead th {\n",
       "        text-align: right;\n",
       "    }\n",
       "</style>\n",
       "<table border=\"1\" class=\"dataframe\">\n",
       "  <thead>\n",
       "    <tr style=\"text-align: right;\">\n",
       "      <th></th>\n",
       "      <th>Country</th>\n",
       "      <th>1990</th>\n",
       "      <th>2005</th>\n",
       "      <th>2017</th>\n",
       "      <th>2021</th>\n",
       "    </tr>\n",
       "  </thead>\n",
       "  <tbody>\n",
       "    <tr>\n",
       "      <th>93</th>\n",
       "      <td>India</td>\n",
       "      <td>605.968</td>\n",
       "      <td>1210.754</td>\n",
       "      <td>2454.774</td>\n",
       "      <td>2648.78</td>\n",
       "    </tr>\n",
       "  </tbody>\n",
       "</table>\n",
       "</div>"
      ],
      "text/plain": [
       "   Country     1990      2005      2017     2021\n",
       "93   India  605.968  1210.754  2454.774  2648.78"
      ]
     },
     "execution_count": 156,
     "metadata": {},
     "output_type": "execute_result"
    }
   ],
   "source": [
    "#load csv\n",
    "csv = pd.read_csv(\"co2_emissions.csv\")\n",
    "#fix India\n",
    "csv[csv['Country']=='India']"
   ]
  },
  {
   "cell_type": "code",
   "execution_count": 157,
   "metadata": {},
   "outputs": [
    {
     "name": "stdout",
     "output_type": "stream",
     "text": [
      "Country     object\n",
      "1990       float64\n",
      "2005       float64\n",
      "2017       float64\n",
      "2021       float64\n",
      "dtype: object\n"
     ]
    }
   ],
   "source": [
    "print(csv.dtypes)"
   ]
  },
  {
   "cell_type": "code",
   "execution_count": 158,
   "metadata": {},
   "outputs": [
    {
     "data": {
      "text/plain": [
       "(208, 5)"
      ]
     },
     "execution_count": 158,
     "metadata": {},
     "output_type": "execute_result"
    }
   ],
   "source": [
    "# filter op landen met World of European union 212-4=208 landen\n",
    "# use ~ to reverse the selection --> False\n",
    "lijst_landen = csv[~(csv['Country'].str.contains('World') | csv['Country'].str.contains('European Union') )]\n",
    "lijst_landen.shape"
   ]
  },
  {
   "cell_type": "code",
   "execution_count": 159,
   "metadata": {},
   "outputs": [
    {
     "data": {
      "text/html": [
       "<div>\n",
       "<style scoped>\n",
       "    .dataframe tbody tr th:only-of-type {\n",
       "        vertical-align: middle;\n",
       "    }\n",
       "\n",
       "    .dataframe tbody tr th {\n",
       "        vertical-align: top;\n",
       "    }\n",
       "\n",
       "    .dataframe thead th {\n",
       "        text-align: right;\n",
       "    }\n",
       "</style>\n",
       "<table border=\"1\" class=\"dataframe\">\n",
       "  <thead>\n",
       "    <tr style=\"text-align: right;\">\n",
       "      <th></th>\n",
       "      <th>Country</th>\n",
       "      <th>1990</th>\n",
       "      <th>2005</th>\n",
       "      <th>2017</th>\n",
       "      <th>2021</th>\n",
       "    </tr>\n",
       "  </thead>\n",
       "  <tbody>\n",
       "    <tr>\n",
       "      <th>42</th>\n",
       "      <td>China</td>\n",
       "      <td>2397.048</td>\n",
       "      <td>6263.064</td>\n",
       "      <td>10877.218</td>\n",
       "      <td>12466.32</td>\n",
       "    </tr>\n",
       "    <tr>\n",
       "      <th>202</th>\n",
       "      <td>United States</td>\n",
       "      <td>5085.897</td>\n",
       "      <td>5971.571</td>\n",
       "      <td>5107.393</td>\n",
       "      <td>4752.08</td>\n",
       "    </tr>\n",
       "    <tr>\n",
       "      <th>93</th>\n",
       "      <td>India</td>\n",
       "      <td>605.968</td>\n",
       "      <td>1210.754</td>\n",
       "      <td>2454.774</td>\n",
       "      <td>2648.78</td>\n",
       "    </tr>\n",
       "    <tr>\n",
       "      <th>158</th>\n",
       "      <td>Russia</td>\n",
       "      <td>2378.921</td>\n",
       "      <td>1733.950</td>\n",
       "      <td>1764.866</td>\n",
       "      <td>1942.54</td>\n",
       "    </tr>\n",
       "    <tr>\n",
       "      <th>102</th>\n",
       "      <td>Japan</td>\n",
       "      <td>1149.400</td>\n",
       "      <td>1276.863</td>\n",
       "      <td>1320.776</td>\n",
       "      <td>1084.69</td>\n",
       "    </tr>\n",
       "  </tbody>\n",
       "</table>\n",
       "</div>"
      ],
      "text/plain": [
       "           Country      1990      2005       2017      2021\n",
       "42           China  2397.048  6263.064  10877.218  12466.32\n",
       "202  United States  5085.897  5971.571   5107.393   4752.08\n",
       "93           India   605.968  1210.754   2454.774   2648.78\n",
       "158         Russia  2378.921  1733.950   1764.866   1942.54\n",
       "102          Japan  1149.400  1276.863   1320.776   1084.69"
      ]
     },
     "execution_count": 159,
     "metadata": {},
     "output_type": "execute_result"
    }
   ],
   "source": [
    "#sorteer van hoog naar laag op 2021 waardes\n",
    "#selecteer top 5\n",
    "top5 = lijst_landen.sort_values(by='2021', ascending=False).head(5)\n",
    "top5"
   ]
  },
  {
   "cell_type": "code",
   "execution_count": 160,
   "metadata": {},
   "outputs": [
    {
     "data": {
      "text/html": [
       "<div>\n",
       "<style scoped>\n",
       "    .dataframe tbody tr th:only-of-type {\n",
       "        vertical-align: middle;\n",
       "    }\n",
       "\n",
       "    .dataframe tbody tr th {\n",
       "        vertical-align: top;\n",
       "    }\n",
       "\n",
       "    .dataframe thead th {\n",
       "        text-align: right;\n",
       "    }\n",
       "</style>\n",
       "<table border=\"1\" class=\"dataframe\">\n",
       "  <thead>\n",
       "    <tr style=\"text-align: right;\">\n",
       "      <th></th>\n",
       "      <th>Country</th>\n",
       "      <th>Year</th>\n",
       "      <th>C02</th>\n",
       "    </tr>\n",
       "  </thead>\n",
       "  <tbody>\n",
       "    <tr>\n",
       "      <th>0</th>\n",
       "      <td>China</td>\n",
       "      <td>1990</td>\n",
       "      <td>2397.048</td>\n",
       "    </tr>\n",
       "    <tr>\n",
       "      <th>1</th>\n",
       "      <td>United States</td>\n",
       "      <td>1990</td>\n",
       "      <td>5085.897</td>\n",
       "    </tr>\n",
       "    <tr>\n",
       "      <th>2</th>\n",
       "      <td>India</td>\n",
       "      <td>1990</td>\n",
       "      <td>605.968</td>\n",
       "    </tr>\n",
       "    <tr>\n",
       "      <th>3</th>\n",
       "      <td>Russia</td>\n",
       "      <td>1990</td>\n",
       "      <td>2378.921</td>\n",
       "    </tr>\n",
       "    <tr>\n",
       "      <th>4</th>\n",
       "      <td>Japan</td>\n",
       "      <td>1990</td>\n",
       "      <td>1149.400</td>\n",
       "    </tr>\n",
       "  </tbody>\n",
       "</table>\n",
       "</div>"
      ],
      "text/plain": [
       "         Country  Year       C02\n",
       "0          China  1990  2397.048\n",
       "1  United States  1990  5085.897\n",
       "2          India  1990   605.968\n",
       "3         Russia  1990  2378.921\n",
       "4          Japan  1990  1149.400"
      ]
     },
     "execution_count": 160,
     "metadata": {},
     "output_type": "execute_result"
    }
   ],
   "source": [
    "top5_pivot= top5.melt(id_vars=[\"Country\"], \n",
    "        var_name=\"Year\", \n",
    "        value_name=\"C02\")\n",
    "top5_pivot.head(5)"
   ]
  },
  {
   "cell_type": "code",
   "execution_count": 161,
   "metadata": {},
   "outputs": [
    {
     "data": {
      "text/plain": [
       "Country     object\n",
       "Year        object\n",
       "C02        float64\n",
       "dtype: object"
      ]
     },
     "execution_count": 161,
     "metadata": {},
     "output_type": "execute_result"
    }
   ],
   "source": [
    "top5_pivot.dtypes"
   ]
  },
  {
   "cell_type": "markdown",
   "metadata": {},
   "source": [
    "Graph 1: CO2 of the bigger countries\n",
    "\n",
    "Make a graph of the CO2 emissions of the 5 biggest CO2 producers in the world (based on the latest measurement). The x-axis should be the years of 1990, 2005 and 2017. If newer datapoints are added in the future please include them as well. The y-axis should represent the fossil CO2 emissions in Mt CO2 for the given years. "
   ]
  },
  {
   "cell_type": "code",
   "execution_count": 162,
   "metadata": {},
   "outputs": [
    {
     "data": {
      "text/plain": [
       "<matplotlib.legend.Legend at 0x136373760>"
      ]
     },
     "execution_count": 162,
     "metadata": {},
     "output_type": "execute_result"
    },
    {
     "data": {
      "image/png": "[encoded data removed]",
      "text/plain": [
       "<Figure size 640x480 with 1 Axes>"
      ]
     },
     "metadata": {},
     "output_type": "display_data"
    }
   ],
   "source": [
    "\n",
    "fig, ax = plt.subplots()\n",
    "ax.set_title('Graph 1: CO2 of the bigger countries')\n",
    "ax.set_xlabel('Year')\n",
    "ax.set_ylabel('Fossil CO2 Emissions (Mt CO2)')\n",
    "\n",
    "\n",
    "groups = top5_pivot.groupby('Country')\n",
    "for name, group in groups:\n",
    "    plt.scatter(group.Year, group.C02, marker='o', linestyle='', s=30, label=name) \n",
    "\n",
    "plt.legend()\n"
   ]
  },
  {
   "cell_type": "markdown",
   "metadata": {},
   "source": [
    "Graph 2: worst and best changers\n",
    "\n",
    "Because of climate change it's important that we curb our carbon dioxide emissions. So some countries will have lowered their emissions while others may have increased their emissions. Some countries will have better results in doing this than others. If we calculate the relative change and sort by that change we'll get a list with countries that are changing for the better at one end and countries that are changing less well on the other end.\n",
    "\n",
    "Find the top three and bottom three countries with regards to lowering these emissions and plot their results."
   ]
  },
  {
   "cell_type": "code",
   "execution_count": 163,
   "metadata": {},
   "outputs": [
    {
     "name": "stdout",
     "output_type": "stream",
     "text": [
      "dataset totaal (208, 5) gefitleerd (104, 5)\n"
     ]
    },
    {
     "data": {
      "text/html": [
       "<div>\n",
       "<style scoped>\n",
       "    .dataframe tbody tr th:only-of-type {\n",
       "        vertical-align: middle;\n",
       "    }\n",
       "\n",
       "    .dataframe tbody tr th {\n",
       "        vertical-align: top;\n",
       "    }\n",
       "\n",
       "    .dataframe thead th {\n",
       "        text-align: right;\n",
       "    }\n",
       "</style>\n",
       "<table border=\"1\" class=\"dataframe\">\n",
       "  <thead>\n",
       "    <tr style=\"text-align: right;\">\n",
       "      <th></th>\n",
       "      <th>Country</th>\n",
       "      <th>rel2005</th>\n",
       "      <th>rel2017</th>\n",
       "      <th>rel2021</th>\n",
       "    </tr>\n",
       "  </thead>\n",
       "  <tbody>\n",
       "    <tr>\n",
       "      <th>4</th>\n",
       "      <td>Albania</td>\n",
       "      <td>63.74</td>\n",
       "      <td>76.35</td>\n",
       "      <td>69.73</td>\n",
       "    </tr>\n",
       "    <tr>\n",
       "      <th>5</th>\n",
       "      <td>Algeria</td>\n",
       "      <td>149.52</td>\n",
       "      <td>243.51</td>\n",
       "      <td>263.41</td>\n",
       "    </tr>\n",
       "    <tr>\n",
       "      <th>6</th>\n",
       "      <td>Angola</td>\n",
       "      <td>273.03</td>\n",
       "      <td>527.70</td>\n",
       "      <td>417.88</td>\n",
       "    </tr>\n",
       "    <tr>\n",
       "      <th>9</th>\n",
       "      <td>Argentina</td>\n",
       "      <td>147.13</td>\n",
       "      <td>186.75</td>\n",
       "      <td>168.10</td>\n",
       "    </tr>\n",
       "    <tr>\n",
       "      <th>10</th>\n",
       "      <td>Armenia</td>\n",
       "      <td>21.94</td>\n",
       "      <td>23.34</td>\n",
       "      <td>32.71</td>\n",
       "    </tr>\n",
       "    <tr>\n",
       "      <th>...</th>\n",
       "      <td>...</td>\n",
       "      <td>...</td>\n",
       "      <td>...</td>\n",
       "      <td>...</td>\n",
       "    </tr>\n",
       "    <tr>\n",
       "      <th>204</th>\n",
       "      <td>Uzbekistan</td>\n",
       "      <td>94.54</td>\n",
       "      <td>77.45</td>\n",
       "      <td>102.07</td>\n",
       "    </tr>\n",
       "    <tr>\n",
       "      <th>206</th>\n",
       "      <td>Venezuela</td>\n",
       "      <td>139.53</td>\n",
       "      <td>133.50</td>\n",
       "      <td>95.79</td>\n",
       "    </tr>\n",
       "    <tr>\n",
       "      <th>207</th>\n",
       "      <td>Vietnam</td>\n",
       "      <td>491.68</td>\n",
       "      <td>1083.78</td>\n",
       "      <td>1592.56</td>\n",
       "    </tr>\n",
       "    <tr>\n",
       "      <th>209</th>\n",
       "      <td>Yemen</td>\n",
       "      <td>316.07</td>\n",
       "      <td>181.54</td>\n",
       "      <td>174.97</td>\n",
       "    </tr>\n",
       "    <tr>\n",
       "      <th>211</th>\n",
       "      <td>Zimbabwe</td>\n",
       "      <td>66.29</td>\n",
       "      <td>70.36</td>\n",
       "      <td>71.54</td>\n",
       "    </tr>\n",
       "  </tbody>\n",
       "</table>\n",
       "<p>104 rows × 4 columns</p>\n",
       "</div>"
      ],
      "text/plain": [
       "        Country  rel2005  rel2017  rel2021\n",
       "4       Albania    63.74    76.35    69.73\n",
       "5       Algeria   149.52   243.51   263.41\n",
       "6        Angola   273.03   527.70   417.88\n",
       "9     Argentina   147.13   186.75   168.10\n",
       "10      Armenia    21.94    23.34    32.71\n",
       "..          ...      ...      ...      ...\n",
       "204  Uzbekistan    94.54    77.45   102.07\n",
       "206   Venezuela   139.53   133.50    95.79\n",
       "207     Vietnam   491.68  1083.78  1592.56\n",
       "209       Yemen   316.07   181.54   174.97\n",
       "211    Zimbabwe    66.29    70.36    71.54\n",
       "\n",
       "[104 rows x 4 columns]"
      ]
     },
     "execution_count": 163,
     "metadata": {},
     "output_type": "execute_result"
    }
   ],
   "source": [
    "\n",
    "#step1: Prep dataset for countries with at least 5 Mt CO2 in 1990\n",
    "\n",
    "atleast5Mt = (\n",
    "    lijst_landen[lijst_landen['1990'] >= 5]\n",
    ")\n",
    "\n",
    "print(f\"dataset totaal {lijst_landen.shape} gefitleerd {atleast5Mt.shape}\")\n",
    "\n",
    "#step 2 zet de waarde overal op 100\n",
    "atleast5Mt['rel1990'] = 100\n",
    "\n",
    "atleast5Mt['rel2005'] = (atleast5Mt['2005'] / atleast5Mt['1990'] * 100).round(2).copy()\n",
    "atleast5Mt['rel2017'] = (atleast5Mt['2017'] / atleast5Mt['1990'] * 100).round(2).copy()\n",
    "atleast5Mt['rel2021'] = (atleast5Mt['2021'] / atleast5Mt['1990'] * 100).round(2).copy()\n",
    "\n",
    "atleast5Mt.drop(['1990','2005','2017','2021','rel1990'],axis=1,  inplace=True)\n",
    "\n",
    "atleast5Mt\n",
    "\n"
   ]
  },
  {
   "cell_type": "code",
   "execution_count": 164,
   "metadata": {},
   "outputs": [],
   "source": [
    "top3 = atleast5Mt.sort_values(by='rel2021', ascending=False).head(3)\n",
    "buttom3 = atleast5Mt.sort_values(by='rel2021', ascending=False).tail(3)\n"
   ]
  },
  {
   "cell_type": "code",
   "execution_count": 165,
   "metadata": {},
   "outputs": [],
   "source": [
    "top3_pivot= top3.melt(id_vars=[\"Country\"], \n",
    "        var_name=\"Year\", \n",
    "        value_name=\"C02\")\n",
    "\n",
    "buttom3_pivot= buttom3.melt(id_vars=[\"Country\"], \n",
    "        var_name=\"Year\", \n",
    "        value_name=\"C02\")\n",
    "\n",
    "#union all both datasets\n",
    "top3_union = pd.concat([top3_pivot, buttom3_pivot])"
   ]
  },
  {
   "cell_type": "markdown",
   "metadata": {},
   "source": [
    "#Graph 2"
   ]
  },
  {
   "cell_type": "code",
   "execution_count": 167,
   "metadata": {},
   "outputs": [
    {
     "data": {
      "text/plain": [
       "<matplotlib.legend.Legend at 0x13648bbe0>"
      ]
     },
     "execution_count": 167,
     "metadata": {},
     "output_type": "execute_result"
    },
    {
     "data": {
      "image/png": "[encoded data removed]",
      "text/plain": [
       "<Figure size 640x480 with 1 Axes>"
      ]
     },
     "metadata": {},
     "output_type": "display_data"
    }
   ],
   "source": [
    "\n",
    "fig, ax = plt.subplots()\n",
    "\n",
    "ax.set_title('Graph 2: CO2 top 3 worst and best performers compared to 1990')\n",
    "ax.set_xlabel('Year')\n",
    "ax.set_ylabel('Fossil CO2 Emissions (Mt CO2) percentage %')\n",
    "\n",
    "\n",
    "groups = top3_union.groupby('Country')\n",
    "for name, group in groups:\n",
    "    plt.scatter(group.Year, group.C02, marker='o', linestyle='', s=20, label=name) \n",
    "\n",
    "plt.legend()\n"
   ]
  }
 ],
 "metadata": {
  "kernelspec": {
   "display_name": "venv_pandas",
   "language": "python",
   "name": "python3"
  },
  "language_info": {
   "codemirror_mode": {
    "name": "ipython",
    "version": 3
   },
   "file_extension": ".py",
   "mimetype": "text/x-python",
   "name": "python",
   "nbconvert_exporter": "python",
   "pygments_lexer": "ipython3",
   "version": "3.9.2"
  },
  "orig_nbformat": 4
 },
 "nbformat": 4,
 "nbformat_minor": 2
}
