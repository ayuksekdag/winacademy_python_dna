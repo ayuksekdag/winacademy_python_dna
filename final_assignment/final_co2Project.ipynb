{
  "nbformat": 4,
  "nbformat_minor": 0,
  "metadata": {
    "colab": {
      "provenance": [],
      "authorship_tag": "ABX9TyP7ISNGvgwOgAogH/w0SCwR",
      "include_colab_link": true
    },
    "kernelspec": {
      "name": "python3",
      "display_name": "Python 3"
    },
    "language_info": {
      "name": "python"
    }
  },
  "cells": [
    {
      "cell_type": "markdown",
      "metadata": {
        "id": "view-in-github",
        "colab_type": "text"
      },
      "source": [
        "<a href=\"https://colab.research.google.com/github/ayuksekdag/winacademy_python_dna/blob/main/final_assignment/final_co2Project.ipynb\" target=\"_parent\"><img src=\"https://colab.research.google.com/assets/colab-badge.svg\" alt=\"Open In Colab\"/></a>"
      ]
    },
    {
      "cell_type": "markdown",
      "source": [
        "**Assignment**\n",
        "\n",
        "- What is the biggest predictor of a large CO2 output per capita of a country?\n",
        "- Which countries are making the biggest strides in decreasing CO2 output?\n",
        "- Which non-fossil fuel energy technology will have the best price in the future?"
      ],
      "metadata": {
        "id": "VrDOnq1FOrG1"
      }
    },
    {
      "cell_type": "markdown",
      "source": [],
      "metadata": {
        "id": "TOCjf68qLNlO"
      }
    },
    {
      "cell_type": "code",
      "source": [
        "import pandas as pd"
      ],
      "metadata": {
        "id": "LwD15BvyLOe9"
      },
      "execution_count": 23,
      "outputs": []
    },
    {
      "cell_type": "code",
      "source": [
        "# sources\n",
        "# source 1: https://ourworldindata.org/grapher/gdp-per-capita-worldbank\n",
        "# filename:per-capita-energy-use.csv\n",
        "# alias: engy_cap\n",
        "\n",
        "# source 2: https://ourworldindata.org/grapher/per-capita-energy-use\n",
        "# filename: gdp-per-capita-worldbank\n",
        "# alias: gdp_cap\n",
        "\n",
        "\n",
        "gdp_cap = pd.read_csv('https://raw.githubusercontent.com/ayuksekdag/winacademy_python_dna/main/final_assignment/gdp-per-capita-worldbank.csv')\n",
        "engy_cap = pd.read_csv('https://raw.githubusercontent.com/ayuksekdag/winacademy_python_dna/main/final_assignment/per-capita-energy-use.csv')"
      ],
      "metadata": {
        "id": "9h5ZCnjPLQ0J"
      },
      "execution_count": 24,
      "outputs": []
    },
    {
      "cell_type": "code",
      "source": [
        "# gdp_cap.head(3)\n",
        "# engy_cap.head(3)"
      ],
      "metadata": {
        "id": "sTDfawDkOLbc"
      },
      "execution_count": 25,
      "outputs": []
    },
    {
      "cell_type": "code",
      "source": [
        "#rename long column names with spaces and special characters\n",
        "engy_cap.rename(columns={'Primary energy consumption per capita (kWh/person)': 'energy_consumption'}, inplace=True)\n",
        "gdp_cap.rename(columns={'GDP per capita, PPP (constant 2017 international $)': 'gdp'}, inplace=True)\n",
        "# print(gdp_cap.dtypes)\n",
        "# print(engy_cap.dtypes)"
      ],
      "metadata": {
        "id": "QX4WOG57OpYy"
      },
      "execution_count": 26,
      "outputs": []
    },
    {
      "cell_type": "code",
      "source": [
        "#change datatype year to datetime\n",
        "gdp_cap['Year'] = pd.to_datetime(gdp_cap['Year'], format='%Y')\n",
        "engy_cap['Year'] = pd.to_datetime(engy_cap['Year'], format='%Y')\n",
        "print(gdp_cap.dtypes)\n",
        "print(engy_cap.dtypes)\n",
        "print(f' \\n grootte engy_cap  {engy_cap.shape}')\n",
        "print(f' \\n grootte gdp_cap {gdp_cap.shape}')\n"
      ],
      "metadata": {
        "id": "EbJDCQwdOODB",
        "outputId": "8e2d0885-eab7-4c4b-e85c-1485ec8669b3",
        "colab": {
          "base_uri": "https://localhost:8080/"
        }
      },
      "execution_count": 55,
      "outputs": [
        {
          "output_type": "stream",
          "name": "stdout",
          "text": [
            "Entity            object\n",
            "Code              object\n",
            "Year      datetime64[ns]\n",
            "gdp              float64\n",
            "dtype: object\n",
            "Entity                        object\n",
            "Code                          object\n",
            "Year                  datetime64[ns]\n",
            "energy_consumption           float64\n",
            "dtype: object\n",
            " \n",
            " grootte engy_cap  (10602, 4)\n",
            " \n",
            " grootte gdp_cap (6346, 4)\n"
          ]
        }
      ]
    },
    {
      "cell_type": "code",
      "source": [
        "df2 = gdp_cap.set_index('Year')\n",
        "df1 = engy_cap.set_index('Year')"
      ],
      "metadata": {
        "id": "MZ8iP_i3mQWQ"
      },
      "execution_count": 69,
      "outputs": []
    },
    {
      "cell_type": "code",
      "source": [
        "gdp_engy_cap = (\n",
        "    pd.merge(gdp_cap,engy_cap, how=\"inner\", on=['Year','Code'], suffixes=('', '_y'))\n",
        "    .drop(['Entity_y','Code'], axis=1)\n",
        ")\n",
        "gdp_engy_cap.head(2)\n",
        "gdp_engy_cap.shape"
      ],
      "metadata": {
        "id": "EQEtqaBRVTPW",
        "outputId": "f6bf24ec-c45a-4a47-d6fc-fb37bd176534",
        "colab": {
          "base_uri": "https://localhost:8080/"
        }
      },
      "execution_count": 70,
      "outputs": [
        {
          "output_type": "execute_result",
          "data": {
            "text/plain": [
              "(10362, 4)"
            ]
          },
          "metadata": {},
          "execution_count": 70
        }
      ]
    }
  ]
}