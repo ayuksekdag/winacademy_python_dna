{
 "cells": [
  {
   "cell_type": "code",
   "execution_count": 6,
   "metadata": {},
   "outputs": [
    {
     "ename": "SyntaxError",
     "evalue": "invalid syntax (3237391514.py, line 3)",
     "output_type": "error",
     "traceback": [
      "\u001b[0;36m  Cell \u001b[0;32mIn[6], line 3\u001b[0;36m\u001b[0m\n\u001b[0;31m    a= example_list[0:::2]\u001b[0m\n\u001b[0m                       ^\u001b[0m\n\u001b[0;31mSyntaxError\u001b[0m\u001b[0;31m:\u001b[0m invalid syntax\n"
     ]
    }
   ],
   "source": [
    "example_list = ['zeroth', 'first', 'second', 'third']\n",
    "# Get the zeroth item.\n",
    "a= example_list[0::2]\n",
    "print(a)"
   ]
  },
  {
   "cell_type": "code",
   "execution_count": 8,
   "metadata": {},
   "outputs": [
    {
     "data": {
      "text/plain": [
       "\"['this', 'is', 'fun']\""
      ]
     },
     "execution_count": 8,
     "metadata": {},
     "output_type": "execute_result"
    }
   ],
   "source": [
    "example_list = ['this', 'is', 'fun']\n",
    "str(example_list)"
   ]
  },
  {
   "cell_type": "code",
   "execution_count": 9,
   "metadata": {},
   "outputs": [
    {
     "data": {
      "text/plain": [
       "['[',\n",
       " \"'\",\n",
       " 't',\n",
       " 'h',\n",
       " 'i',\n",
       " 's',\n",
       " \"'\",\n",
       " ',',\n",
       " ' ',\n",
       " \"'\",\n",
       " 'i',\n",
       " 's',\n",
       " \"'\",\n",
       " ',',\n",
       " ' ',\n",
       " \"'\",\n",
       " 'f',\n",
       " 'u',\n",
       " 'n',\n",
       " \"'\",\n",
       " ']']"
      ]
     },
     "execution_count": 9,
     "metadata": {},
     "output_type": "execute_result"
    }
   ],
   "source": [
    "list(str(example_list))"
   ]
  },
  {
   "cell_type": "code",
   "execution_count": 10,
   "metadata": {},
   "outputs": [
    {
     "data": {
      "text/plain": [
       "'[\\'[\\', \"\\'\", \\'t\\', \\'h\\', \\'i\\', \\'s\\', \"\\'\", \\',\\', \\' \\', \"\\'\", \\'i\\', \\'s\\', \"\\'\", \\',\\', \\' \\', \"\\'\", \\'f\\', \\'u\\', \\'n\\', \"\\'\", \\']\\']'"
      ]
     },
     "execution_count": 10,
     "metadata": {},
     "output_type": "execute_result"
    }
   ],
   "source": [
    "str(list(str(example_list)))\n"
   ]
  },
  {
   "cell_type": "code",
   "execution_count": 11,
   "metadata": {},
   "outputs": [
    {
     "data": {
      "text/plain": [
       "['[',\n",
       " \"'\",\n",
       " '[',\n",
       " \"'\",\n",
       " ',',\n",
       " ' ',\n",
       " '\"',\n",
       " \"'\",\n",
       " '\"',\n",
       " ',',\n",
       " ' ',\n",
       " \"'\",\n",
       " 't',\n",
       " \"'\",\n",
       " ',',\n",
       " ' ',\n",
       " \"'\",\n",
       " 'h',\n",
       " \"'\",\n",
       " ',',\n",
       " ' ',\n",
       " \"'\",\n",
       " 'i',\n",
       " \"'\",\n",
       " ',',\n",
       " ' ',\n",
       " \"'\",\n",
       " 's',\n",
       " \"'\",\n",
       " ',',\n",
       " ' ',\n",
       " '\"',\n",
       " \"'\",\n",
       " '\"',\n",
       " ',',\n",
       " ' ',\n",
       " \"'\",\n",
       " ',',\n",
       " \"'\",\n",
       " ',',\n",
       " ' ',\n",
       " \"'\",\n",
       " ' ',\n",
       " \"'\",\n",
       " ',',\n",
       " ' ',\n",
       " '\"',\n",
       " \"'\",\n",
       " '\"',\n",
       " ',',\n",
       " ' ',\n",
       " \"'\",\n",
       " 'i',\n",
       " \"'\",\n",
       " ',',\n",
       " ' ',\n",
       " \"'\",\n",
       " 's',\n",
       " \"'\",\n",
       " ',',\n",
       " ' ',\n",
       " '\"',\n",
       " \"'\",\n",
       " '\"',\n",
       " ',',\n",
       " ' ',\n",
       " \"'\",\n",
       " ',',\n",
       " \"'\",\n",
       " ',',\n",
       " ' ',\n",
       " \"'\",\n",
       " ' ',\n",
       " \"'\",\n",
       " ',',\n",
       " ' ',\n",
       " '\"',\n",
       " \"'\",\n",
       " '\"',\n",
       " ',',\n",
       " ' ',\n",
       " \"'\",\n",
       " 'f',\n",
       " \"'\",\n",
       " ',',\n",
       " ' ',\n",
       " \"'\",\n",
       " 'u',\n",
       " \"'\",\n",
       " ',',\n",
       " ' ',\n",
       " \"'\",\n",
       " 'n',\n",
       " \"'\",\n",
       " ',',\n",
       " ' ',\n",
       " '\"',\n",
       " \"'\",\n",
       " '\"',\n",
       " ',',\n",
       " ' ',\n",
       " \"'\",\n",
       " ']',\n",
       " \"'\",\n",
       " ']']"
      ]
     },
     "execution_count": 11,
     "metadata": {},
     "output_type": "execute_result"
    }
   ],
   "source": [
    "list(str(list(str(example_list))))\n"
   ]
  }
 ],
 "metadata": {
  "kernelspec": {
   "display_name": "Python 3",
   "language": "python",
   "name": "python3"
  },
  "language_info": {
   "codemirror_mode": {
    "name": "ipython",
    "version": 3
   },
   "file_extension": ".py",
   "mimetype": "text/x-python",
   "name": "python",
   "nbconvert_exporter": "python",
   "pygments_lexer": "ipython3",
   "version": "3.9.6"
  },
  "orig_nbformat": 4,
  "vscode": {
   "interpreter": {
    "hash": "31f2aee4e71d21fbe5cf8b01ff0e069b9275f58929596ceb00d14d90e3e16cd6"
   }
  }
 },
 "nbformat": 4,
 "nbformat_minor": 2
}
